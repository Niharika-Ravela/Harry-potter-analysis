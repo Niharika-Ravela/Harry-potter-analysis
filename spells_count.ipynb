{
 "cells": [
  {
   "cell_type": "code",
   "execution_count": 1,
   "metadata": {},
   "outputs": [],
   "source": [
    "import pandas as pd\n",
    "import numpy as np"
   ]
  },
  {
   "cell_type": "code",
   "execution_count": 2,
   "metadata": {},
   "outputs": [],
   "source": [
    "spells_df = pd.read_csv(r'C:\\Users\\nihar\\OneDrive\\Desktop\\Projects\\Data_Analysis_Tableau\\Harry_Potter_Movie_Scripts\\Spells.csv', encoding='latin1')\n",
    "dialogue_df = pd.read_csv(r'C:\\Users\\nihar\\OneDrive\\Desktop\\Projects\\Data_Analysis_Tableau\\Harry_Potter_Movie_Scripts\\Dialogue.csv', encoding='latin1')"
   ]
  },
  {
   "cell_type": "code",
   "execution_count": 3,
   "metadata": {},
   "outputs": [
    {
     "name": "stdout",
     "output_type": "stream",
     "text": [
      "<class 'pandas.core.frame.DataFrame'>\n",
      "RangeIndex: 61 entries, 0 to 60\n",
      "Data columns (total 5 columns):\n",
      " #   Column       Non-Null Count  Dtype \n",
      "---  ------       --------------  ----- \n",
      " 0   ï»¿Spell ID  61 non-null     int64 \n",
      " 1   Incantation  61 non-null     object\n",
      " 2   Spell Name   61 non-null     object\n",
      " 3   Effect       61 non-null     object\n",
      " 4   Light        40 non-null     object\n",
      "dtypes: int64(1), object(4)\n",
      "memory usage: 2.5+ KB\n"
     ]
    }
   ],
   "source": [
    "spells_df.info()"
   ]
  },
  {
   "cell_type": "code",
   "execution_count": 4,
   "metadata": {},
   "outputs": [
    {
     "name": "stdout",
     "output_type": "stream",
     "text": [
      "<class 'pandas.core.frame.DataFrame'>\n",
      "RangeIndex: 7444 entries, 0 to 7443\n",
      "Data columns (total 5 columns):\n",
      " #   Column        Non-Null Count  Dtype \n",
      "---  ------        --------------  ----- \n",
      " 0   Dialogue ID   7444 non-null   int64 \n",
      " 1   Chapter ID    7444 non-null   int64 \n",
      " 2   Place ID      7444 non-null   int64 \n",
      " 3   Character ID  7444 non-null   int64 \n",
      " 4   Dialogue      7444 non-null   object\n",
      "dtypes: int64(4), object(1)\n",
      "memory usage: 290.9+ KB\n"
     ]
    }
   ],
   "source": [
    "dialogue_df.info()"
   ]
  },
  {
   "cell_type": "code",
   "execution_count": 5,
   "metadata": {},
   "outputs": [
    {
     "data": {
      "text/html": [
       "<div>\n",
       "<style scoped>\n",
       "    .dataframe tbody tr th:only-of-type {\n",
       "        vertical-align: middle;\n",
       "    }\n",
       "\n",
       "    .dataframe tbody tr th {\n",
       "        vertical-align: top;\n",
       "    }\n",
       "\n",
       "    .dataframe thead th {\n",
       "        text-align: right;\n",
       "    }\n",
       "</style>\n",
       "<table border=\"1\" class=\"dataframe\">\n",
       "  <thead>\n",
       "    <tr style=\"text-align: right;\">\n",
       "      <th></th>\n",
       "      <th>Dialogue ID</th>\n",
       "      <th>Chapter ID</th>\n",
       "      <th>Place ID</th>\n",
       "      <th>Character ID</th>\n",
       "      <th>Dialogue</th>\n",
       "    </tr>\n",
       "  </thead>\n",
       "  <tbody>\n",
       "    <tr>\n",
       "      <th>0</th>\n",
       "      <td>1</td>\n",
       "      <td>1</td>\n",
       "      <td>8</td>\n",
       "      <td>4</td>\n",
       "      <td>I should have known that you would be here...P...</td>\n",
       "    </tr>\n",
       "    <tr>\n",
       "      <th>1</th>\n",
       "      <td>2</td>\n",
       "      <td>1</td>\n",
       "      <td>8</td>\n",
       "      <td>7</td>\n",
       "      <td>Good evening, Professor Dumbledore. Are the ru...</td>\n",
       "    </tr>\n",
       "    <tr>\n",
       "      <th>2</th>\n",
       "      <td>3</td>\n",
       "      <td>1</td>\n",
       "      <td>8</td>\n",
       "      <td>4</td>\n",
       "      <td>I'm afraid so, Professor. The good, and the bad.</td>\n",
       "    </tr>\n",
       "    <tr>\n",
       "      <th>3</th>\n",
       "      <td>4</td>\n",
       "      <td>1</td>\n",
       "      <td>8</td>\n",
       "      <td>7</td>\n",
       "      <td>And the boy?</td>\n",
       "    </tr>\n",
       "    <tr>\n",
       "      <th>4</th>\n",
       "      <td>5</td>\n",
       "      <td>1</td>\n",
       "      <td>8</td>\n",
       "      <td>4</td>\n",
       "      <td>Hagrid is bringing him.</td>\n",
       "    </tr>\n",
       "  </tbody>\n",
       "</table>\n",
       "</div>"
      ],
      "text/plain": [
       "   Dialogue ID  Chapter ID  Place ID  Character ID  \\\n",
       "0            1           1         8             4   \n",
       "1            2           1         8             7   \n",
       "2            3           1         8             4   \n",
       "3            4           1         8             7   \n",
       "4            5           1         8             4   \n",
       "\n",
       "                                            Dialogue  \n",
       "0  I should have known that you would be here...P...  \n",
       "1  Good evening, Professor Dumbledore. Are the ru...  \n",
       "2   I'm afraid so, Professor. The good, and the bad.  \n",
       "3                                       And the boy?  \n",
       "4                            Hagrid is bringing him.  "
      ]
     },
     "execution_count": 5,
     "metadata": {},
     "output_type": "execute_result"
    }
   ],
   "source": [
    "dialogue_df.head()"
   ]
  },
  {
   "cell_type": "code",
   "execution_count": 6,
   "metadata": {},
   "outputs": [
    {
     "data": {
      "text/html": [
       "<div>\n",
       "<style scoped>\n",
       "    .dataframe tbody tr th:only-of-type {\n",
       "        vertical-align: middle;\n",
       "    }\n",
       "\n",
       "    .dataframe tbody tr th {\n",
       "        vertical-align: top;\n",
       "    }\n",
       "\n",
       "    .dataframe thead th {\n",
       "        text-align: right;\n",
       "    }\n",
       "</style>\n",
       "<table border=\"1\" class=\"dataframe\">\n",
       "  <thead>\n",
       "    <tr style=\"text-align: right;\">\n",
       "      <th></th>\n",
       "      <th>ï»¿Spell ID</th>\n",
       "      <th>Incantation</th>\n",
       "      <th>Spell Name</th>\n",
       "      <th>Effect</th>\n",
       "      <th>Light</th>\n",
       "    </tr>\n",
       "  </thead>\n",
       "  <tbody>\n",
       "    <tr>\n",
       "      <th>0</th>\n",
       "      <td>1</td>\n",
       "      <td>Accio</td>\n",
       "      <td>Summoning Charm</td>\n",
       "      <td>Summons an object</td>\n",
       "      <td>NaN</td>\n",
       "    </tr>\n",
       "    <tr>\n",
       "      <th>1</th>\n",
       "      <td>2</td>\n",
       "      <td>Aguamenti</td>\n",
       "      <td>Water-Making Spell</td>\n",
       "      <td>Conjures water</td>\n",
       "      <td>Icy blue</td>\n",
       "    </tr>\n",
       "    <tr>\n",
       "      <th>2</th>\n",
       "      <td>3</td>\n",
       "      <td>Alarte Ascendare</td>\n",
       "      <td>Launch an object up into the air</td>\n",
       "      <td>Rockets target upward</td>\n",
       "      <td>Red</td>\n",
       "    </tr>\n",
       "    <tr>\n",
       "      <th>3</th>\n",
       "      <td>4</td>\n",
       "      <td>Alohomora</td>\n",
       "      <td>Unlocking Charm</td>\n",
       "      <td>Unlocks target</td>\n",
       "      <td>Blue</td>\n",
       "    </tr>\n",
       "    <tr>\n",
       "      <th>4</th>\n",
       "      <td>5</td>\n",
       "      <td>Arania Exumai</td>\n",
       "      <td>Spider repelling spell</td>\n",
       "      <td>Repels spiders</td>\n",
       "      <td>Blue</td>\n",
       "    </tr>\n",
       "  </tbody>\n",
       "</table>\n",
       "</div>"
      ],
      "text/plain": [
       "   ï»¿Spell ID       Incantation                        Spell Name  \\\n",
       "0            1             Accio                   Summoning Charm   \n",
       "1            2         Aguamenti                Water-Making Spell   \n",
       "2            3  Alarte Ascendare  Launch an object up into the air   \n",
       "3            4         Alohomora                   Unlocking Charm   \n",
       "4            5     Arania Exumai            Spider repelling spell   \n",
       "\n",
       "                  Effect     Light  \n",
       "0      Summons an object       NaN  \n",
       "1         Conjures water  Icy blue  \n",
       "2  Rockets target upward       Red  \n",
       "3         Unlocks target      Blue  \n",
       "4         Repels spiders      Blue  "
      ]
     },
     "execution_count": 6,
     "metadata": {},
     "output_type": "execute_result"
    }
   ],
   "source": [
    "spells_df.head()"
   ]
  },
  {
   "cell_type": "code",
   "execution_count": 7,
   "metadata": {},
   "outputs": [],
   "source": [
    "incantation_counts = {}\n",
    "for index, row in spells_df.iterrows():\n",
    "    incantation = row['Incantation']\n",
    "    incantation_counts[incantation] = 0\n",
    "    for dialogue in dialogue_df['Dialogue']:\n",
    "        if incantation in dialogue:\n",
    "            incantation_counts[incantation] += 1\n",
    "incantation_df = pd.DataFrame({'Incantation': list(incantation_counts.keys()), 'Count': list(incantation_counts.values())})\n"
   ]
  },
  {
   "cell_type": "code",
   "execution_count": 8,
   "metadata": {},
   "outputs": [],
   "source": [
    "incantation_df.to_excel('Spell_counts.xlsx', index=False)"
   ]
  }
 ],
 "metadata": {
  "kernelspec": {
   "display_name": "Python 3",
   "language": "python",
   "name": "python3"
  },
  "language_info": {
   "codemirror_mode": {
    "name": "ipython",
    "version": 3
   },
   "file_extension": ".py",
   "mimetype": "text/x-python",
   "name": "python",
   "nbconvert_exporter": "python",
   "pygments_lexer": "ipython3",
   "version": "3.9.12"
  }
 },
 "nbformat": 4,
 "nbformat_minor": 2
}
